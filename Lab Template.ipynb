{
 "cells": [
  {
   "cell_type": "markdown",
   "metadata": {},
   "source": [
    "# Physics Lab Template\n",
    "\n",
    "## Abstract\n",
    "[text here]\n",
    "\n",
    "## Procedure\n",
    "[text here]\n",
    "\n",
    "## Data Analysis\n",
    "[text here]\n",
    "\n",
    "## Conclusion\n",
    "[text here]"
   ]
  },
  {
   "cell_type": "code",
   "execution_count": 1,
   "metadata": {
    "collapsed": true
   },
   "outputs": [],
   "source": [
    "#==== Enter your data here====#\n",
    "x_data = [1., 2.]\n",
    "y_data = [1., 2.]\n",
    "\n",
    "#==== Run this cell before the one below ====#"
   ]
  },
  {
   "cell_type": "code",
   "execution_count": 4,
   "metadata": {
    "collapsed": false
   },
   "outputs": [
    {
     "data": {
      "text/html": [
       "<script>requirejs.config({paths: { 'plotly': ['https://cdn.plot.ly/plotly-latest.min']},});if(!window.Plotly) {{require(['plotly'],function(plotly) {window.Plotly=plotly;});}}</script>"
      ],
      "text/vnd.plotly.v1+html": [
       "<script>requirejs.config({paths: { 'plotly': ['https://cdn.plot.ly/plotly-latest.min']},});if(!window.Plotly) {{require(['plotly'],function(plotly) {window.Plotly=plotly;});}}</script>"
      ]
     },
     "metadata": {},
     "output_type": "display_data"
    },
    {
     "data": {
      "application/vnd.plotly.v1+json": {
       "data": [
        {
         "mode": "markers",
         "type": "scatter",
         "x": [
          1,
          2
         ],
         "y": [
          1,
          2
         ]
        }
       ],
       "layout": {}
      },
      "text/html": [
       "<div id=\"11fd9205-aa93-4354-ace1-9cfd68c36a15\" style=\"height: 525px; width: 100%;\" class=\"plotly-graph-div\"></div><script type=\"text/javascript\">require([\"plotly\"], function(Plotly) { window.PLOTLYENV=window.PLOTLYENV || {};window.PLOTLYENV.BASE_URL=\"https://plot.ly\";Plotly.newPlot(\"11fd9205-aa93-4354-ace1-9cfd68c36a15\", [{\"y\": [1.0, 2.0], \"type\": \"scatter\", \"x\": [1.0, 2.0], \"mode\": \"markers\"}], {}, {\"showLink\": true, \"linkText\": \"Export to plot.ly\"})});</script>"
      ],
      "text/vnd.plotly.v1+html": [
       "<div id=\"11fd9205-aa93-4354-ace1-9cfd68c36a15\" style=\"height: 525px; width: 100%;\" class=\"plotly-graph-div\"></div><script type=\"text/javascript\">require([\"plotly\"], function(Plotly) { window.PLOTLYENV=window.PLOTLYENV || {};window.PLOTLYENV.BASE_URL=\"https://plot.ly\";Plotly.newPlot(\"11fd9205-aa93-4354-ace1-9cfd68c36a15\", [{\"y\": [1.0, 2.0], \"type\": \"scatter\", \"x\": [1.0, 2.0], \"mode\": \"markers\"}], {}, {\"showLink\": true, \"linkText\": \"Export to plot.ly\"})});</script>"
      ]
     },
     "metadata": {},
     "output_type": "display_data"
    }
   ],
   "source": [
    "#======== DO NOT EDIT THIS CELL ==========#\n",
    "import plotly\n",
    "import plotly.graph_objs as go\n",
    "\n",
    "from numpy import arange, array, ones\n",
    "from scipy import stats\n",
    "\n",
    "plotly.offline.init_notebook_mode(connected=True)\n",
    "\n",
    "trace = go.Scatter(\n",
    "    x = x_data,\n",
    "    y = y_data,\n",
    "    mode = 'markers'\n",
    ")\n",
    "plotly.offline.iplot([trace])"
   ]
  },
  {
   "cell_type": "code",
   "execution_count": null,
   "metadata": {
    "collapsed": true
   },
   "outputs": [],
   "source": []
  }
 ],
 "metadata": {
  "anaconda-cloud": {},
  "kernelspec": {
   "display_name": "Python [conda root]",
   "language": "python",
   "name": "conda-root-py"
  },
  "language_info": {
   "codemirror_mode": {
    "name": "ipython",
    "version": 3
   },
   "file_extension": ".py",
   "mimetype": "text/x-python",
   "name": "python",
   "nbconvert_exporter": "python",
   "pygments_lexer": "ipython3",
   "version": "3.5.2"
  }
 },
 "nbformat": 4,
 "nbformat_minor": 1
}
