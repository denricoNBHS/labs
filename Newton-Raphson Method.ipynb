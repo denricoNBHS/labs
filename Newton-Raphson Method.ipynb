{
 "cells": [
  {
   "cell_type": "code",
   "execution_count": 1,
   "metadata": {
    "collapsed": true
   },
   "outputs": [],
   "source": [
    "%matplotlib inline"
   ]
  },
  {
   "cell_type": "markdown",
   "metadata": {},
   "source": [
    "# The Newton-Raphson Method"
   ]
  },
  {
   "cell_type": "markdown",
   "metadata": {},
   "source": [
    "Nazeem showed me a pretty standard local max/min problem from the AP Calc AB practice book, and came up with an interesting question - without a graphing calculator, could you find the roots of the following function on the interval $0 \\leq x \\leq 3$?\n",
    "\n",
    "$$ f(x) = \\ln(x+1) - \\sin^2x $$"
   ]
  },
  {
   "cell_type": "markdown",
   "metadata": {},
   "source": [
    "Equations like these are _transcendental_, and rarely yield closed-form (i.e. expressible in a finite number of terms) solutions. By inspection we can see that 0 is a solution, but that's about it. \n",
    "\n",
    "So it's here we'll abandon any hope for an exact solution and resort to numerical methods. Since this function has a nice first derivative, we can use something called the Newton-Raphson method to search for roots. \n",
    "\n",
    "I like this method since it's pretty intuitive; we start with a guess near the root we'd like to find. I've marked that guess as point $P$ below:\n",
    "\n",
    "<img src=\"img/nr_1.png\"/>\n",
    "\n",
    "We draw the tangent through $P$ and calculate its intersection with the x-axis. Because the tangent is a decent approximation for the function at that point, its x-intercept should also be a decent approximation for the root. \n",
    "\n",
    "<img src=\"img/nr_2.png\"/>\n",
    "\n",
    "We then start over, using our approximate root as our more accurate guess, and repeat to the desired precision. Algebraically, this is how things work out.\n",
    "\n",
    "Let our first guess be called $x_0$, our function $f(x)$, and its first derivative, $f'(x)$.\n",
    "\n",
    "The tangent line to $f(x)$ at $x_0$ is given by: \n",
    "\n",
    "$$ g(x) = f'(x_0)(x-x_0) + f(x_0) $$\n",
    "\n",
    "The point of intersection with the x-axis is the value of $x$ such that $g(x) = 0$; we'll call this value $x_1$, our first approximation for the root. Informally, the tangent line \"points\" us toward the root. Thus: \n",
    "\n",
    "$$ \n",
    "\\begin{align}\n",
    "g(x_1)&=0 \\\\\n",
    "f'(x_0)(x_1-x_0) + f(x_0) &= 0 \\\\\n",
    "x_1 &= x_0 - \\frac{f(x_0)}{f'(x_0)}\n",
    "\\end{align}\n",
    "$$"
   ]
  },
  {
   "cell_type": "markdown",
   "metadata": {},
   "source": [
    "Since we can repeat this same process over and over, we can write this more generally as:\n",
    "\n",
    "$$ x_{n+1} = x_n - \\frac{f(x_n)}{f'(x_n)} $$"
   ]
  },
  {
   "cell_type": "markdown",
   "metadata": {
    "collapsed": true
   },
   "source": [
    "While we could do this by hand, it's more fun to code it, right?\n",
    "\n",
    "This next block lets you dynamically adjust your guess and the depth of estimation in real time."
   ]
  },
  {
   "cell_type": "code",
   "execution_count": 13,
   "metadata": {
    "collapsed": false
   },
   "outputs": [
    {
     "data": {
      "text/plain": [
       "0.96436320120960672"
      ]
     },
     "metadata": {},
     "output_type": "display_data"
    }
   ],
   "source": [
    "from __future__ import print_function\n",
    "from ipywidgets import interact, interactive, fixed\n",
    "import ipywidgets as widgets\n",
    "import numpy as np\n",
    "import matplotlib.pyplot as plt\n",
    "\n",
    "# Define f(x) and its first derivative\n",
    "\n",
    "def f(x):\n",
    "    # You can change this to reflect the function you want\n",
    "    return np.log(x+1) - (np.sin(x))**2\n",
    "    \n",
    "def df(x):\n",
    "    # This needs to be the first derivative of the previous function\n",
    "    return 1/abs(x+1) - np.sin(2*x)\n",
    "\n",
    "def nr(guess, depth):\n",
    "    # Have fun with this one. Recursion.\n",
    "    if depth == 0:\n",
    "        return guess\n",
    "    \n",
    "    elif depth == 1:\n",
    "        return guess - f(guess)/df(guess)\n",
    "    \n",
    "    else:\n",
    "        prev = nr(guess, depth - 1)\n",
    "        return prev - f(prev)/df(prev)\n",
    "    \n",
    "interact(nr, guess=(0.0, 3.0), depth=(0, 10, 1));\n"
   ]
  },
  {
   "cell_type": "code",
   "execution_count": 14,
   "metadata": {
    "collapsed": false
   },
   "outputs": [
    {
     "data": {
      "image/png": "[encoded data removed]",
      "text/plain": [
       "<matplotlib.figure.Figure at 0x10f51fa58>"
      ]
     },
     "metadata": {},
     "output_type": "display_data"
    }
   ],
   "source": [
    "# Generate x values:\n",
    "x = np.linspace(0, 3, 100)\n",
    "\n",
    "# Enter your guess and depth here:\n",
    "g = .75\n",
    "d = 5\n",
    "\n",
    "p = nr(g, d)\n",
    "\n",
    "plt.plot(x, f(x))\n",
    "plt.plot(p, f(p), 'k.', label='Approx. root = %s' % p)\n",
    "plt.axhline(0, color='black')\n",
    "plt.xlabel('x')\n",
    "plt.ylabel('f(x)')\n",
    "plt.title('N-R Root Approximation')\n",
    "plt.legend(loc='upper left')\n",
    "plt.show()"
   ]
  }
 ],
 "metadata": {
  "anaconda-cloud": {},
  "kernelspec": {
   "display_name": "Python [conda root]",
   "language": "python",
   "name": "conda-root-py"
  },
  "language_info": {
   "codemirror_mode": {
    "name": "ipython",
    "version": 3
   },
   "file_extension": ".py",
   "mimetype": "text/x-python",
   "name": "python",
   "nbconvert_exporter": "python",
   "pygments_lexer": "ipython3",
   "version": "3.5.2"
  }
 },
 "nbformat": 4,
 "nbformat_minor": 1
}
