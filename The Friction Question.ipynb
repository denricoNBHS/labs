{
 "cells": [
  {
   "cell_type": "markdown",
   "metadata": {},
   "source": [
    "Between lack of food, sleep, hydration, awareness, and general teaching prowess, I failed our problem today. Here's my attempt to fix it."
   ]
  },
  {
   "cell_type": "markdown",
   "metadata": {
    "collapsed": true
   },
   "source": [
    "<img src=\"img/FBD.png\" width=300px />"
   ]
  },
  {
   "cell_type": "markdown",
   "metadata": {},
   "source": [
    "In the y-direction:\n",
    "$$\n",
    "\\begin{align}\n",
    "\\sum F_y&=0 \\\\\n",
    "F_n + F\\sin\\theta - mg &= 0 \\\\\n",
    "F_n &= mg - F\\sin\\theta\n",
    "\\end{align}\n",
    "$$\n",
    "\n",
    "And in the x-direction:\n",
    "$$\n",
    "\\begin{align}\n",
    "\\sum F_x&=0 \\\\\n",
    "F\\cos\\theta - f_s &= 0 \\\\\n",
    "F\\cos\\theta - \\mu_sF_n &= 0 \\\\\n",
    "F\\cos\\theta - \\mu_s(mg - F\\sin\\theta) &= 0 \\\\\n",
    "F(\\cos\\theta + \\mu_s\\sin\\theta) &= \\mu_s mg \\\\\n",
    "F &= \\frac{\\mu_s mg}{\\cos\\theta + \\mu_s\\sin\\theta}\n",
    "\\end{align}\n",
    "$$\n"
   ]
  },
  {
   "cell_type": "markdown",
   "metadata": {
    "collapsed": true
   },
   "source": [
    "Which leaves us with the question, \"Is $\\cos\\theta + \\mu_s \\sin\\theta > 1$?\"\n",
    "\n",
    "With that, I'll take us to [Desmos](https://www.desmos.com/calculator/vrsu4xt9m1). Play with the $u$ slider to change the friction and you can inspect the graph to see the values of x where $\\cos x + \\mu_s \\sin x > 1$. "
   ]
  },
  {
   "cell_type": "markdown",
   "metadata": {},
   "source": [
    "Long story short, it all depends."
   ]
  }
 ],
 "metadata": {
  "anaconda-cloud": {},
  "kernelspec": {
   "display_name": "Python [conda root]",
   "language": "python",
   "name": "conda-root-py"
  },
  "language_info": {
   "codemirror_mode": {
    "name": "ipython",
    "version": 3
   },
   "file_extension": ".py",
   "mimetype": "text/x-python",
   "name": "python",
   "nbconvert_exporter": "python",
   "pygments_lexer": "ipython3",
   "version": "3.5.2"
  }
 },
 "nbformat": 4,
 "nbformat_minor": 1
}
